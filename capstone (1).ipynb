{
  "cells": [
    {
      "cell_type": "code",
      "execution_count": null,
      "metadata": {},
      "outputs": [],
      "source": [
        "!pip install kaggle"
      ]
    },
    {
      "cell_type": "code",
      "execution_count": null,
      "metadata": {
        "id": "yixS4VoOt-9A"
      },
      "outputs": [],
      "source": [
        "!mkdir -p ~/.kaggle\n",
        "!cp kaggle.json ~/.kaggle/\n",
        "!chmod 600 ~/.kaggle/kaggle.json"
      ]
    },
    {
      "cell_type": "code",
      "execution_count": null,
      "metadata": {},
      "outputs": [],
      "source": [
        "!kaggle datasets download -d omkargurav/face-mask-dataset"
      ]
    },
    {
      "cell_type": "code",
      "execution_count": null,
      "metadata": {},
      "outputs": [],
      "source": [
        "from zipfile import ZipFile\n",
        "dataset = '/content/face-mask-dataset.zip'\n",
        "\n",
        "with ZipFile(dataset,'r') as zip:\n",
        "  zip.extractall()\n",
        "  print('The dataset is extracted')"
      ]
    },
    {
      "cell_type": "code",
      "execution_count": null,
      "metadata": {
        "colab": {
          "base_uri": "https://localhost:8080/"
        },
        "id": "CIXNFgYdt-02",
        "outputId": "26a53906-467b-480f-e20c-6f4f11868db8"
      },
      "outputs": [
        {
          "name": "stdout",
          "output_type": "stream",
          "text": [
            "data  face-mask-dataset.zip  kaggle.json  sample_data\n"
          ]
        }
      ],
      "source": [
        "!ls\n"
      ]
    },
    {
      "cell_type": "code",
      "execution_count": null,
      "metadata": {
        "id": "gisRp5HNt-yg"
      },
      "outputs": [],
      "source": [
        "import os\n",
        "import numpy as np\n",
        "import matplotlib.pyplot as plt\n",
        "import matplotlib.image as mpimg\n",
        "import cv2\n",
        "from google.colab.patches import cv2_imshow\n",
        "from PIL import Image \n",
        "from sklearn.model_selection import train_test_split"
      ]
    },
    {
      "cell_type": "code",
      "execution_count": null,
      "metadata": {
        "colab": {
          "base_uri": "https://localhost:8080/"
        },
        "id": "YsLPzzN3t-vv",
        "outputId": "5ecc5231-1308-4eb8-f6da-10fd89c95b37"
      },
      "outputs": [
        {
          "name": "stdout",
          "output_type": "stream",
          "text": [
            "['with_mask_1451.jpg', 'with_mask_1854.jpg', 'with_mask_3117.jpg', 'with_mask_764.jpg', 'with_mask_2552.jpg']\n",
            "['with_mask_523.jpg', 'with_mask_1575.jpg', 'with_mask_1161.jpg', 'with_mask_1199.jpg', 'with_mask_732.jpg']\n"
          ]
        }
      ],
      "source": [
        "with_mask_files = os.listdir('path of the with mask image folder ')\n",
        "print(with_mask_files[0:5])\n",
        "print(with_mask_files[-5:])"
      ]
    },
    {
      "cell_type": "code",
      "execution_count": null,
      "metadata": {
        "colab": {
          "base_uri": "https://localhost:8080/"
        },
        "id": "lmzO_XJ5t-tS",
        "outputId": "d8e4407d-f8a3-43f9-8da1-fc9d1b7df039"
      },
      "outputs": [
        {
          "name": "stdout",
          "output_type": "stream",
          "text": [
            "['without_mask_1943.jpg', 'without_mask_1766.jpg', 'without_mask_29.jpg', 'without_mask_1023.jpg', 'without_mask_2036.jpg']\n",
            "['without_mask_3796.jpg', 'without_mask_1154.jpg', 'without_mask_706.jpg', 'without_mask_173.jpg', 'without_mask_1009.jpg']\n"
          ]
        }
      ],
      "source": [
        "without_mask_files = os.listdir('path of the without mask image folder ')\n",
        "print(without_mask_files[0:5])\n",
        "print(without_mask_files[-5:])"
      ]
    },
    {
      "cell_type": "code",
      "execution_count": null,
      "metadata": {
        "colab": {
          "base_uri": "https://localhost:8080/"
        },
        "id": "DGTv0cn4t-qa",
        "outputId": "bf1a0dfd-fb13-4d46-cc41-e70230a11003"
      },
      "outputs": [
        {
          "name": "stdout",
          "output_type": "stream",
          "text": [
            "Number of with mask images: 3725\n",
            "Number of without mask images: 3828\n"
          ]
        }
      ],
      "source": [
        "print('Number of with mask images:', len(with_mask_files))\n",
        "print('Number of without mask images:', len(without_mask_files))"
      ]
    },
    {
      "cell_type": "code",
      "execution_count": null,
      "metadata": {
        "id": "GH_R1pczt-ne"
      },
      "outputs": [],
      "source": [
        "\n",
        "with_mask_labels = [1]*3725\n",
        "\n",
        "without_mask_labels = [0]*3828"
      ]
    },
    {
      "cell_type": "code",
      "execution_count": null,
      "metadata": {
        "colab": {
          "base_uri": "https://localhost:8080/"
        },
        "id": "4IBhhBAlLo2X",
        "outputId": "693deba6-67bd-4313-e608-f43ee57e3c53"
      },
      "outputs": [
        {
          "name": "stdout",
          "output_type": "stream",
          "text": [
            "[1, 1, 1, 1, 1]\n",
            "[0, 0, 0, 0, 0]\n"
          ]
        }
      ],
      "source": [
        "print(with_mask_labels[0:5])\n",
        "\n",
        "print(without_mask_labels[0:5])"
      ]
    },
    {
      "cell_type": "code",
      "execution_count": null,
      "metadata": {
        "colab": {
          "base_uri": "https://localhost:8080/"
        },
        "id": "Ot9_GgsgLozD",
        "outputId": "eff0ee63-db84-461f-fec0-7642e125b793"
      },
      "outputs": [
        {
          "name": "stdout",
          "output_type": "stream",
          "text": [
            "3725\n",
            "3828\n"
          ]
        }
      ],
      "source": [
        "print(len(with_mask_labels))\n",
        "print(len(without_mask_labels))"
      ]
    },
    {
      "cell_type": "code",
      "execution_count": null,
      "metadata": {
        "id": "LPuRu9dtLovx"
      },
      "outputs": [],
      "source": [
        "labels = with_mask_labels + without_mask_labels"
      ]
    },
    {
      "cell_type": "code",
      "execution_count": null,
      "metadata": {
        "colab": {
          "base_uri": "https://localhost:8080/"
        },
        "id": "BujYYTrULos5",
        "outputId": "71d8ca2d-443a-4e3e-d0cd-950e2b44546e"
      },
      "outputs": [
        {
          "name": "stdout",
          "output_type": "stream",
          "text": [
            "7553\n",
            "[1, 1, 1, 1, 1]\n",
            "[0, 0, 0, 0, 0]\n"
          ]
        }
      ],
      "source": [
        "print(len(labels))\n",
        "print(labels[0:5])\n",
        "print(labels[-5:])"
      ]
    },
    {
      "cell_type": "code",
      "execution_count": null,
      "metadata": {
        "colab": {
          "background_save": true,
          "base_uri": "https://localhost:8080/"
        },
        "id": "CCy4CorxL7uy",
        "outputId": "81fed6de-0039-48c8-a09c-b6a30f9beb26"
      },
      "outputs": [
        {
          "name": "stderr",
          "output_type": "stream",
          "text": [
            "/usr/local/lib/python3.10/dist-packages/PIL/Image.py:975: UserWarning: Palette images with Transparency expressed in bytes should be converted to RGBA images\n",
            "  warnings.warn(\n"
          ]
        }
      ],
      "source": [
        "# convert images to numpy arrays+\n",
        "\n",
        "with_mask_path = 'path of the with mask image folder '\n",
        "\n",
        "data = []\n",
        "\n",
        "for img_file in with_mask_files:\n",
        "\n",
        "  image = Image.open(with_mask_path + img_file)\n",
        "  image = image.resize((128,128))\n",
        "  image = image.convert('RGB')\n",
        "  image = np.array(image)\n",
        "  data.append(image)"
      ]
    },
    {
      "cell_type": "code",
      "execution_count": null,
      "metadata": {
        "colab": {
          "background_save": true
        },
        "id": "XTXnqxwLL7rJ"
      },
      "outputs": [],
      "source": [
        "without_mask_path = 'path of the without mask image folder'\n",
        "\n",
        "\n",
        "for img_file in without_mask_files:\n",
        "\n",
        "  image = Image.open(without_mask_path + img_file)\n",
        "  image = image.resize((128,128))\n",
        "  image = image.convert('RGB')\n",
        "  image = np.array(image)\n",
        "  data.append(image)"
      ]
    },
    {
      "cell_type": "code",
      "execution_count": null,
      "metadata": {
        "colab": {
          "background_save": true,
          "base_uri": "https://localhost:8080/"
        },
        "id": "4Li02T6jL7mO",
        "outputId": "ae0b3e04-76cf-4391-b54b-8c6b8debb529"
      },
      "outputs": [
        {
          "data": {
            "text/plain": [
              "7553"
            ]
          },
          "execution_count": 26,
          "metadata": {},
          "output_type": "execute_result"
        }
      ],
      "source": [
        "\n",
        "len(data)"
      ]
    },
    {
      "cell_type": "code",
      "execution_count": null,
      "metadata": {
        "colab": {
          "background_save": true,
          "base_uri": "https://localhost:8080/"
        },
        "id": "n9nBVwOJL7je",
        "outputId": "3b3250a7-557a-49fd-e90c-fae961cd1489"
      },
      "outputs": [
        {
          "data": {
            "text/plain": [
              "array([[[118, 122, 125],\n",
              "        [119, 123, 126],\n",
              "        [119, 123, 126],\n",
              "        ...,\n",
              "        [140, 150, 152],\n",
              "        [140, 150, 152],\n",
              "        [139, 149, 151]],\n",
              "\n",
              "       [[118, 122, 125],\n",
              "        [118, 122, 125],\n",
              "        [118, 122, 125],\n",
              "        ...,\n",
              "        [140, 150, 152],\n",
              "        [140, 150, 152],\n",
              "        [139, 149, 151]],\n",
              "\n",
              "       [[118, 122, 125],\n",
              "        [118, 122, 125],\n",
              "        [118, 122, 125],\n",
              "        ...,\n",
              "        [140, 150, 152],\n",
              "        [140, 150, 152],\n",
              "        [139, 149, 151]],\n",
              "\n",
              "       ...,\n",
              "\n",
              "       [[255, 255, 255],\n",
              "        [255, 255, 255],\n",
              "        [255, 255, 255],\n",
              "        ...,\n",
              "        [255, 255, 255],\n",
              "        [255, 255, 255],\n",
              "        [255, 255, 255]],\n",
              "\n",
              "       [[255, 255, 255],\n",
              "        [255, 255, 255],\n",
              "        [255, 255, 255],\n",
              "        ...,\n",
              "        [255, 255, 255],\n",
              "        [255, 255, 255],\n",
              "        [255, 255, 255]],\n",
              "\n",
              "       [[255, 255, 255],\n",
              "        [255, 255, 255],\n",
              "        [255, 255, 255],\n",
              "        ...,\n",
              "        [255, 255, 255],\n",
              "        [255, 255, 255],\n",
              "        [255, 255, 255]]], dtype=uint8)"
            ]
          },
          "execution_count": 27,
          "metadata": {},
          "output_type": "execute_result"
        }
      ],
      "source": [
        "data[0]"
      ]
    },
    {
      "cell_type": "code",
      "execution_count": null,
      "metadata": {
        "colab": {
          "background_save": true,
          "base_uri": "https://localhost:8080/"
        },
        "id": "4K3SklHlMs09",
        "outputId": "0a6d46e7-d631-4d92-a8e4-3ef34ec2e51c"
      },
      "outputs": [
        {
          "data": {
            "text/plain": [
              "numpy.ndarray"
            ]
          },
          "execution_count": 28,
          "metadata": {},
          "output_type": "execute_result"
        }
      ],
      "source": [
        "type(data[0])"
      ]
    },
    {
      "cell_type": "code",
      "execution_count": null,
      "metadata": {
        "colab": {
          "background_save": true,
          "base_uri": "https://localhost:8080/"
        },
        "id": "jJ747dlwMsyw",
        "outputId": "2bd860b5-5a5e-4e0e-e346-abd20136997e"
      },
      "outputs": [
        {
          "data": {
            "text/plain": [
              "(128, 128, 3)"
            ]
          },
          "execution_count": 29,
          "metadata": {},
          "output_type": "execute_result"
        }
      ],
      "source": [
        "data[0].shape"
      ]
    },
    {
      "cell_type": "code",
      "execution_count": null,
      "metadata": {
        "colab": {
          "background_save": true
        },
        "id": "ETUjUuX1Msvo"
      },
      "outputs": [],
      "source": [
        "# converting image list and label list to numpy arrays\n",
        "\n",
        "X = np.array(data)\n",
        "Y = np.array(labels)"
      ]
    },
    {
      "cell_type": "code",
      "execution_count": null,
      "metadata": {
        "colab": {
          "background_save": true,
          "base_uri": "https://localhost:8080/"
        },
        "id": "9tsByfejMsr7",
        "outputId": "76061c18-719a-4d38-bbad-5efc3f54161c"
      },
      "outputs": [
        {
          "data": {
            "text/plain": [
              "numpy.ndarray"
            ]
          },
          "execution_count": 31,
          "metadata": {},
          "output_type": "execute_result"
        }
      ],
      "source": [
        "type(X)"
      ]
    },
    {
      "cell_type": "code",
      "execution_count": null,
      "metadata": {
        "colab": {
          "background_save": true,
          "base_uri": "https://localhost:8080/"
        },
        "id": "SuJDBvmFMsog",
        "outputId": "2edeb4ca-4adc-4e59-bcf1-8565ebf773f6"
      },
      "outputs": [
        {
          "data": {
            "text/plain": [
              "numpy.ndarray"
            ]
          },
          "execution_count": 32,
          "metadata": {},
          "output_type": "execute_result"
        }
      ],
      "source": [
        "type(Y)"
      ]
    },
    {
      "cell_type": "code",
      "execution_count": null,
      "metadata": {
        "colab": {
          "background_save": true,
          "base_uri": "https://localhost:8080/"
        },
        "id": "W8LQTeSRMsmC",
        "outputId": "dad2f94d-0eec-4844-dbf1-9ab25710a146"
      },
      "outputs": [
        {
          "name": "stdout",
          "output_type": "stream",
          "text": [
            "(7553, 128, 128, 3)\n",
            "(7553,)\n"
          ]
        }
      ],
      "source": [
        "print(X.shape)\n",
        "print(Y.shape)"
      ]
    },
    {
      "cell_type": "code",
      "execution_count": null,
      "metadata": {
        "colab": {
          "background_save": true,
          "base_uri": "https://localhost:8080/"
        },
        "id": "AzeeK7y9MsjG",
        "outputId": "ce909e3e-23cb-4729-d7dc-5cc04ad6eba1"
      },
      "outputs": [
        {
          "name": "stdout",
          "output_type": "stream",
          "text": [
            "[1 1 1 ... 0 0 0]\n"
          ]
        }
      ],
      "source": [
        "print(Y)"
      ]
    },
    {
      "cell_type": "code",
      "execution_count": null,
      "metadata": {
        "colab": {
          "background_save": true
        },
        "id": "dGBG7G3AL7g2"
      },
      "outputs": [],
      "source": [
        "X_train, X_test, Y_train, Y_test = train_test_split(X, Y, test_size=0.2, random_state=2)"
      ]
    },
    {
      "cell_type": "code",
      "execution_count": null,
      "metadata": {
        "colab": {
          "background_save": true,
          "base_uri": "https://localhost:8080/"
        },
        "id": "XJMflEiuNVU6",
        "outputId": "1db4d436-d813-4b0e-cc59-b8d474485964"
      },
      "outputs": [
        {
          "name": "stdout",
          "output_type": "stream",
          "text": [
            "(7553, 128, 128, 3) (6042, 128, 128, 3) (1511, 128, 128, 3)\n"
          ]
        }
      ],
      "source": [
        "print(X.shape, X_train.shape, X_test.shape)"
      ]
    },
    {
      "cell_type": "code",
      "execution_count": null,
      "metadata": {
        "colab": {
          "background_save": true
        },
        "id": "qnFFQ5mLNVRk"
      },
      "outputs": [],
      "source": [
        "X_train_scaled = X_train/255\n",
        "\n",
        "X_test_scaled = X_test/255"
      ]
    },
    {
      "cell_type": "code",
      "execution_count": null,
      "metadata": {
        "colab": {
          "background_save": true,
          "base_uri": "https://localhost:8080/"
        },
        "id": "yw67hfvONVPF",
        "outputId": "339b7a0e-2322-4a51-f523-8e52d0b77d28"
      },
      "outputs": [
        {
          "data": {
            "text/plain": [
              "array([[[120,  90,  69],\n",
              "        [103,  72,  50],\n",
              "        [107,  76,  54],\n",
              "        ...,\n",
              "        [255, 255, 255],\n",
              "        [255, 255, 255],\n",
              "        [255, 255, 255]],\n",
              "\n",
              "       [[114,  84,  60],\n",
              "        [103,  73,  49],\n",
              "        [110,  79,  56],\n",
              "        ...,\n",
              "        [255, 255, 255],\n",
              "        [255, 255, 255],\n",
              "        [255, 255, 255]],\n",
              "\n",
              "       [[115,  85,  61],\n",
              "        [110,  80,  56],\n",
              "        [110,  79,  56],\n",
              "        ...,\n",
              "        [255, 255, 255],\n",
              "        [255, 255, 255],\n",
              "        [255, 255, 255]],\n",
              "\n",
              "       ...,\n",
              "\n",
              "       [[253, 253, 253],\n",
              "        [254, 254, 254],\n",
              "        [255, 255, 255],\n",
              "        ...,\n",
              "        [ 27,  35,  60],\n",
              "        [ 25,  33,  70],\n",
              "        [ 24,  33,  66]],\n",
              "\n",
              "       [[253, 253, 253],\n",
              "        [254, 254, 254],\n",
              "        [255, 255, 255],\n",
              "        ...,\n",
              "        [ 27,  35,  61],\n",
              "        [ 25,  33,  70],\n",
              "        [ 24,  33,  66]],\n",
              "\n",
              "       [[253, 253, 253],\n",
              "        [254, 254, 254],\n",
              "        [255, 255, 255],\n",
              "        ...,\n",
              "        [ 27,  35,  61],\n",
              "        [ 25,  33,  70],\n",
              "        [ 24,  33,  66]]], dtype=uint8)"
            ]
          },
          "execution_count": 38,
          "metadata": {},
          "output_type": "execute_result"
        }
      ],
      "source": [
        "X_train[0]"
      ]
    },
    {
      "cell_type": "code",
      "execution_count": null,
      "metadata": {
        "colab": {
          "background_save": true,
          "base_uri": "https://localhost:8080/"
        },
        "id": "7bG8c246NrmB",
        "outputId": "d9e5b310-1896-4a27-bba8-35c87e5519bd"
      },
      "outputs": [
        {
          "data": {
            "text/plain": [
              "array([[[0.47058824, 0.35294118, 0.27058824],\n",
              "        [0.40392157, 0.28235294, 0.19607843],\n",
              "        [0.41960784, 0.29803922, 0.21176471],\n",
              "        ...,\n",
              "        [1.        , 1.        , 1.        ],\n",
              "        [1.        , 1.        , 1.        ],\n",
              "        [1.        , 1.        , 1.        ]],\n",
              "\n",
              "       [[0.44705882, 0.32941176, 0.23529412],\n",
              "        [0.40392157, 0.28627451, 0.19215686],\n",
              "        [0.43137255, 0.30980392, 0.21960784],\n",
              "        ...,\n",
              "        [1.        , 1.        , 1.        ],\n",
              "        [1.        , 1.        , 1.        ],\n",
              "        [1.        , 1.        , 1.        ]],\n",
              "\n",
              "       [[0.45098039, 0.33333333, 0.23921569],\n",
              "        [0.43137255, 0.31372549, 0.21960784],\n",
              "        [0.43137255, 0.30980392, 0.21960784],\n",
              "        ...,\n",
              "        [1.        , 1.        , 1.        ],\n",
              "        [1.        , 1.        , 1.        ],\n",
              "        [1.        , 1.        , 1.        ]],\n",
              "\n",
              "       ...,\n",
              "\n",
              "       [[0.99215686, 0.99215686, 0.99215686],\n",
              "        [0.99607843, 0.99607843, 0.99607843],\n",
              "        [1.        , 1.        , 1.        ],\n",
              "        ...,\n",
              "        [0.10588235, 0.1372549 , 0.23529412],\n",
              "        [0.09803922, 0.12941176, 0.2745098 ],\n",
              "        [0.09411765, 0.12941176, 0.25882353]],\n",
              "\n",
              "       [[0.99215686, 0.99215686, 0.99215686],\n",
              "        [0.99607843, 0.99607843, 0.99607843],\n",
              "        [1.        , 1.        , 1.        ],\n",
              "        ...,\n",
              "        [0.10588235, 0.1372549 , 0.23921569],\n",
              "        [0.09803922, 0.12941176, 0.2745098 ],\n",
              "        [0.09411765, 0.12941176, 0.25882353]],\n",
              "\n",
              "       [[0.99215686, 0.99215686, 0.99215686],\n",
              "        [0.99607843, 0.99607843, 0.99607843],\n",
              "        [1.        , 1.        , 1.        ],\n",
              "        ...,\n",
              "        [0.10588235, 0.1372549 , 0.23921569],\n",
              "        [0.09803922, 0.12941176, 0.2745098 ],\n",
              "        [0.09411765, 0.12941176, 0.25882353]]])"
            ]
          },
          "execution_count": 39,
          "metadata": {},
          "output_type": "execute_result"
        }
      ],
      "source": [
        "X_train_scaled[0]"
      ]
    },
    {
      "cell_type": "code",
      "execution_count": null,
      "metadata": {
        "colab": {
          "background_save": true
        },
        "id": "okVfLBmqNriv"
      },
      "outputs": [],
      "source": [
        "import tensorflow as tf\n",
        "from tensorflow import keras"
      ]
    },
    {
      "cell_type": "code",
      "execution_count": null,
      "metadata": {
        "colab": {
          "background_save": true
        },
        "id": "2fA9ml5rNrfy"
      },
      "outputs": [],
      "source": [
        "num_of_classes = 2\n",
        "\n",
        "model = keras.Sequential()\n",
        "\n",
        "model.add(keras.layers.Conv2D(32, kernel_size=(3,3), activation='relu', input_shape=(128,128,3)))\n",
        "model.add(keras.layers.MaxPooling2D(pool_size=(2,2)))\n",
        "\n",
        "\n",
        "model.add(keras.layers.Conv2D(64, kernel_size=(3,3), activation='relu'))\n",
        "model.add(keras.layers.MaxPooling2D(pool_size=(2,2)))\n",
        "\n",
        "model.add(keras.layers.Flatten())\n",
        "\n",
        "model.add(keras.layers.Dense(128, activation='relu'))\n",
        "model.add(keras.layers.Dropout(0.5))\n",
        "\n",
        "model.add(keras.layers.Dense(64, activation='relu'))\n",
        "model.add(keras.layers.Dropout(0.5))\n",
        "\n",
        "\n",
        "model.add(keras.layers.Dense(num_of_classes, activation='sigmoid'))"
      ]
    },
    {
      "cell_type": "code",
      "execution_count": null,
      "metadata": {
        "colab": {
          "background_save": true
        },
        "id": "i-_lcq_bNrb2"
      },
      "outputs": [],
      "source": [
        "# compile the neural network\n",
        "model.compile(optimizer='rcParams',\n",
        "              loss='sparse_categorical_crossentropy',\n",
        "              metrics=['acc'])"
      ]
    },
    {
      "cell_type": "code",
      "execution_count": null,
      "metadata": {
        "colab": {
          "base_uri": "https://localhost:8080/"
        },
        "id": "6ka3ZLIoNrYt",
        "outputId": "114b226c-a69a-49fc-a087-51c9674aabec"
      },
      "outputs": [
        {
          "name": "stdout",
          "output_type": "stream",
          "text": [
            "Epoch 1/5\n",
            "170/170 [==============================] - 15s 22ms/step - loss: 0.4588 - acc: 0.8030 - val_loss: 0.3025 - val_acc: 0.8727\n",
            "Epoch 2/5\n",
            "170/170 [==============================] - 3s 19ms/step - loss: 0.2824 - acc: 0.8939 - val_loss: 0.2280 - val_acc: 0.9025\n",
            "Epoch 3/5\n",
            "170/170 [==============================] - 3s 18ms/step - loss: 0.2393 - acc: 0.9099 - val_loss: 0.2302 - val_acc: 0.9025\n",
            "Epoch 4/5\n",
            "170/170 [==============================] - 3s 17ms/step - loss: 0.1912 - acc: 0.9319 - val_loss: 0.2628 - val_acc: 0.8876\n",
            "Epoch 5/5\n",
            "170/170 [==============================] - 3s 17ms/step - loss: 0.1500 - acc: 0.9456 - val_loss: 0.2798 - val_acc: 0.8959\n"
          ]
        }
      ],
      "source": [
        "# training the neural network\n",
        "history = model.fit(X_train_scaled, Y_train, validation_split=0.1, epochs=5)"
      ]
    },
    {
      "cell_type": "code",
      "execution_count": null,
      "metadata": {},
      "outputs": [],
      "source": [
        "model.summary()"
      ]
    },
    {
      "cell_type": "code",
      "execution_count": null,
      "metadata": {
        "id": "MSlvx6C7yZIl"
      },
      "outputs": [],
      "source": [
        "model.save('face_mask_detection.h5')"
      ]
    },
    {
      "cell_type": "code",
      "execution_count": null,
      "metadata": {},
      "outputs": [],
      "source": [
        "loss, accuracy = model.evaluate(X_test_scaled, Y_test)\n",
        "print('Test Accuracy =', accuracy)"
      ]
    },
    {
      "cell_type": "code",
      "execution_count": null,
      "metadata": {},
      "outputs": [],
      "source": [
        "h = history\n",
        "\n",
        "plt.plot(h.history['loss'], label='train loss')\n",
        "plt.plot(h.history['val_loss'], label='validation loss')\n",
        "plt.legend()\n",
        "plt.show()\n",
        "\n",
        "plt.plot(h.history['acc'], label='train accuracy')\n",
        "plt.plot(h.history['val_acc'], label='validation accuracy')\n",
        "plt.legend()\n",
        "plt.show()"
      ]
    },
    {
      "cell_type": "code",
      "execution_count": null,
      "metadata": {},
      "outputs": [],
      "source": [
        "model = tf.keras.models.load_model('face_mask_detection.h5')\n",
        "\n",
        "img_width, img_height = 150, 150\n",
        "\n",
        "labels = {0: 'with_mask', 1: 'without_mask'}\n",
        "\n",
        "# Define the function to make predictions on new images\n",
        "\n",
        "def detect_face_mask(image):\n",
        "    # Convert the image to the appropriate format and resize it\n",
        "    image = cv2.cvtColor(image, cv2.COLOR_BGR2RGB)\n",
        "    image = cv2.resize(image, (img_width, img_height))\n",
        "\n",
        "    # Expand the dimensions of the image\n",
        "    image = np.expand_dims(image, axis=0)\n",
        "\n",
        "    # Make a prediction on the image\n",
        "    prediction = model.predict(image)\n",
        "\n",
        "    # Get the index of the predicted label\n",
        "    predicted_label_index = int(np.round(prediction[0][0]))\n",
        "\n",
        "    # Get the label of the prediction\n",
        "    predicted_label = labels[predicted_label_index]\n",
        "\n",
        "    return predicted_label\n",
        "\n",
        "# Test the function on a sample image\n",
        "image_path = 'path/to/test/image'\n",
        "image = cv2.imread(image_path)\n",
        "predicted_label = detect_face_mask(image)\n",
        "\n",
        "print('The predicted label for the image is:', predicted_label)"
      ]
    }
  ],
  "metadata": {
    "accelerator": "GPU",
    "colab": {
      "provenance": []
    },
    "gpuClass": "standard",
    "kernelspec": {
      "display_name": "Python 3",
      "name": "python3"
    },
    "language_info": {
      "name": "python"
    }
  },
  "nbformat": 4,
  "nbformat_minor": 0
}
